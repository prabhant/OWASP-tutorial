{
 "cells": [
  {
   "cell_type": "markdown",
   "metadata": {},
   "source": [
    "In this tutorial we'll make adversarial examples for MNIST dataset using tensorflow and Keras<br>\n",
    "**REQUIREMENTS**<br>\n",
    "1. install all the libraries included in requirements.txt\n",
    "2. install he adversarial-robustness-toolbox as shown here https://github.com/IBM/adversarial-robustness-toolbox\n",
    "3. Go to /usr/local/lib/python3.5/dist-packages/config and paste the config.ini file from the config folder here"
   ]
  },
  {
   "cell_type": "code",
   "execution_count": 1,
   "metadata": {},
   "outputs": [
    {
     "name": "stderr",
     "output_type": "stream",
     "text": [
      "Using TensorFlow backend.\n"
     ]
    }
   ],
   "source": [
    "from __future__ import absolute_import, division, print_function, unicode_literals\n",
    "\n",
    "from os.path import abspath\n",
    "import sys\n",
    "sys.path.append(abspath('.'))\n",
    "\n",
    "import keras.backend as k\n",
    "from keras.models import Sequential\n",
    "from keras.layers import Dense, Flatten, Conv2D, MaxPooling2D, Activation, Dropout\n",
    "import numpy as np\n",
    "import tensorflow as tf\n",
    "\n",
    "from art.attacks.deepfool import DeepFool\n",
    "from art.attacks.fast_gradient import FastGradientMethod\n",
    "from art.classifiers import KerasClassifier\n",
    "from art.utils import load_dataset\n",
    "from art.classifiers import KerasClassifier, TFClassifier\n",
    "from art.utils import load_mnist\n",
    "import keras\n",
    "from matplotlib import pyplot as plt"
   ]
  },
  {
   "cell_type": "markdown",
   "metadata": {},
   "source": [
    "We'll first make a small neural network for classifying our MNIST Dataset, "
   ]
  },
  {
   "cell_type": "code",
   "execution_count": 2,
   "metadata": {},
   "outputs": [],
   "source": [
    "def cnn_mnist_tf(input_shape):\n",
    "    labels_tf = tf.placeholder(tf.float32, [None, 10])\n",
    "    inputs_tf = tf.placeholder(tf.float32, [None] + list(input_shape))\n",
    "\n",
    "    # Define the tensorflow graph\n",
    "    conv = tf.layers.conv2d(inputs_tf, 4, 5, activation=tf.nn.relu)\n",
    "    conv = tf.layers.max_pooling2d(conv, 2, 2)\n",
    "    fc = tf.contrib.layers.flatten(conv)\n",
    "\n",
    "    # Logits layer\n",
    "    logits = tf.layers.dense(fc, 10)\n",
    "\n",
    "    # Train operator\n",
    "    loss = tf.reduce_mean(tf.losses.softmax_cross_entropy(logits=logits, onehot_labels=labels_tf))\n",
    "    optimizer = tf.train.AdamOptimizer(learning_rate=0.01)\n",
    "    train_tf = optimizer.minimize(loss)\n",
    "\n",
    "    sess = tf.Session()\n",
    "    sess.run(tf.global_variables_initializer())\n",
    "\n",
    "    classifier = TFClassifier((0, 1), inputs_tf, logits, loss=loss, train=train_tf, output_ph=labels_tf, sess=sess)\n",
    "    return classifier"
   ]
  },
  {
   "cell_type": "code",
   "execution_count": null,
   "metadata": {},
   "outputs": [],
   "source": []
  },
  {
   "cell_type": "code",
   "execution_count": 3,
   "metadata": {},
   "outputs": [],
   "source": [
    "def cnn_mnist_k(input_shape):\n",
    "    # Create simple CNN\n",
    "    model = Sequential()\n",
    "    model.add(Conv2D(4, kernel_size=(5, 5), activation='relu', input_shape=input_shape))\n",
    "    model.add(MaxPooling2D(pool_size=(2, 2)))\n",
    "    model.add(Flatten())\n",
    "    model.add(Dense(10, activation='softmax'))\n",
    "\n",
    "    model.compile(loss=keras.losses.categorical_crossentropy, optimizer=keras.optimizers.Adam(lr=0.01),\n",
    "                  metrics=['accuracy'])\n",
    "\n",
    "    classifier = KerasClassifier((0, 1), model, use_logits=False)\n",
    "    return classifier"
   ]
  },
  {
   "cell_type": "code",
   "execution_count": null,
   "metadata": {},
   "outputs": [],
   "source": []
  },
  {
   "cell_type": "code",
   "execution_count": 4,
   "metadata": {},
   "outputs": [
    {
     "name": "stdout",
     "output_type": "stream",
     "text": [
      "Epoch 1/5\n",
      "469/468 [==============================] - 15s 32ms/step - loss: 0.2033 - acc: 0.9397\n",
      "Epoch 2/5\n",
      "469/468 [==============================] - 12s 26ms/step - loss: 0.0879 - acc: 0.9736\n",
      "Epoch 3/5\n",
      "469/468 [==============================] - 12s 26ms/step - loss: 0.0682 - acc: 0.9792\n",
      "Epoch 4/5\n",
      "469/468 [==============================] - 15s 32ms/step - loss: 0.0608 - acc: 0.9814\n",
      "Epoch 5/5\n",
      "469/468 [==============================] - 17s 35ms/step - loss: 0.0524 - acc: 0.9832\n"
     ]
    }
   ],
   "source": [
    "# Get session\n",
    "session = tf.Session()\n",
    "k.set_session(session)\n",
    "\n",
    "# Read MNIST dataset\n",
    "(x_train, y_train), (x_test, y_test), min_, max_ = load_mnist()\n",
    "\n",
    "# Construct and train a convolutional neural network on MNIST using Keras\n",
    "source = cnn_mnist_k(x_train.shape[1:])\n",
    "source.fit(x_train, y_train, nb_epochs=5, batch_size=128)"
   ]
  },
  {
   "cell_type": "code",
   "execution_count": null,
   "metadata": {},
   "outputs": [],
   "source": []
  },
  {
   "cell_type": "code",
   "execution_count": 5,
   "metadata": {},
   "outputs": [],
   "source": [
    "# Craft adversarial samples with DeepFool\n",
    "adv_crafter = DeepFool(source)\n",
    "x_train_adv = adv_crafter.generate(x_train)\n",
    "x_test_adv = adv_crafter.generate(x_test)"
   ]
  },
  {
   "cell_type": "code",
   "execution_count": null,
   "metadata": {},
   "outputs": [],
   "source": []
  },
  {
   "cell_type": "code",
   "execution_count": 6,
   "metadata": {},
   "outputs": [
    {
     "name": "stdout",
     "output_type": "stream",
     "text": [
      "WARNING:tensorflow:From /usr/local/lib/python3.5/dist-packages/tensorflow/python/ops/losses/losses_impl.py:691: softmax_cross_entropy_with_logits (from tensorflow.python.ops.nn_ops) is deprecated and will be removed in a future version.\n",
      "Instructions for updating:\n",
      "\n",
      "Future major versions of TensorFlow will allow gradients to flow\n",
      "into the labels input on backprop by default.\n",
      "\n",
      "See tf.nn.softmax_cross_entropy_with_logits_v2.\n",
      "\n"
     ]
    }
   ],
   "source": [
    "# Construct and train a convolutional neural network\n",
    "target = cnn_mnist_tf(x_train.shape[1:])\n",
    "target.fit(x_train, y_train, nb_epochs=5, batch_size=128)"
   ]
  },
  {
   "cell_type": "code",
   "execution_count": null,
   "metadata": {},
   "outputs": [],
   "source": []
  },
  {
   "cell_type": "code",
   "execution_count": 7,
   "metadata": {},
   "outputs": [
    {
     "name": "stdout",
     "output_type": "stream",
     "text": [
      "\n",
      "Accuracy on adversarial samples: 0.00%\n"
     ]
    },
    {
     "name": "stderr",
     "output_type": "stream",
     "text": [
      "/home/prabhant/.local/lib/python3.5/site-packages/ipykernel_launcher.py:3: DeprecationWarning: elementwise == comparison failed; this will raise an error in the future.\n",
      "  This is separate from the ipykernel package so we can avoid doing imports until\n"
     ]
    }
   ],
   "source": [
    "# Evaluate the CNN on the adversarial samples\n",
    "preds = target.predict(x_test_adv)\n",
    "acc = np.sum(preds == np.argmax(y_test, axis=1)) / y_test.shape[0]\n",
    "print(\"\\nAccuracy on adversarial samples: %.2f%%\" % (acc * 100))"
   ]
  },
  {
   "cell_type": "code",
   "execution_count": 8,
   "metadata": {},
   "outputs": [
    {
     "name": "stdout",
     "output_type": "stream",
     "text": [
      "\n",
      "Accuracy on adversarial samples: 0.00%\n"
     ]
    },
    {
     "name": "stderr",
     "output_type": "stream",
     "text": [
      "/home/prabhant/.local/lib/python3.5/site-packages/ipykernel_launcher.py:2: DeprecationWarning: elementwise == comparison failed; this will raise an error in the future.\n",
      "  \n"
     ]
    }
   ],
   "source": [
    "preds = source.predict(x_test_adv)\n",
    "acc = np.sum(preds == np.argmax(y_test, axis=1)) / y_test.shape[0]\n",
    "print(\"\\nAccuracy on adversarial samples: %.2f%%\" % (acc * 100))"
   ]
  },
  {
   "cell_type": "code",
   "execution_count": 9,
   "metadata": {},
   "outputs": [
    {
     "data": {
      "image/png": "[encoded data removed]",
      "text/plain": [
       "<matplotlib.figure.Figure at 0x7f21ef9cefd0>"
      ]
     },
     "metadata": {},
     "output_type": "display_data"
    },
    {
     "data": {
      "text/plain": [
       "<module 'matplotlib.pyplot' from '/usr/local/lib/python3.5/dist-packages/matplotlib/pyplot.py'>"
      ]
     },
     "execution_count": 9,
     "metadata": {},
     "output_type": "execute_result"
    }
   ],
   "source": [
    "def gen_image(arr):\n",
    "    two_d = (np.reshape(arr, (28, 28)) * 255).astype(np.uint8)\n",
    "    plt.imshow(two_d, interpolation='nearest')\n",
    "    plt.show()\n",
    "    return plt\n",
    "gen_image(x_test_adv[7])"
   ]
  },
  {
   "cell_type": "code",
   "execution_count": null,
   "metadata": {},
   "outputs": [],
   "source": []
  }
 ],
 "metadata": {
  "kernelspec": {
   "display_name": "Python 3",
   "language": "python",
   "name": "python3"
  },
  "language_info": {
   "codemirror_mode": {
    "name": "ipython",
    "version": 3
   },
   "file_extension": ".py",
   "mimetype": "text/x-python",
   "name": "python",
   "nbconvert_exporter": "python",
   "pygments_lexer": "ipython3",
   "version": "3.5.2"
  }
 },
 "nbformat": 4,
 "nbformat_minor": 2
}
